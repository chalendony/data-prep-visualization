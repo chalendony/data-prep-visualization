{
 "cells": [
  {
   "cell_type": "markdown",
   "metadata": {},
   "source": [
    "# Aligning the Homecredit Tables \n",
    "\n",
    "Drop rows in a child tables if foreign key of child is not present in primary key of a parent table"
   ]
  },
  {
   "cell_type": "code",
   "execution_count": 2,
   "metadata": {},
   "outputs": [],
   "source": [
    "import featuretools as ft\n",
    "from quilt.data.avare import homecredit"
   ]
  },
  {
   "cell_type": "code",
   "execution_count": 3,
   "metadata": {},
   "outputs": [],
   "source": [
    "frames = {}\n",
    "for key, val in homecredit._items():\n",
    "    frames[key] = val().copy(deep=True)"
   ]
  },
  {
   "cell_type": "code",
   "execution_count": 107,
   "metadata": {},
   "outputs": [],
   "source": [
    "def align_dataframes(frames):\n",
    "    aligned = {}\n",
    "    lst = [*frames.keys()]\n",
    "    # omit self and tables with no foreign key in parent\n",
    "    omit = ['application_train', 'bureau_balance']\n",
    "    keep = [l for l in lst if l not in (omit) ] \n",
    "    parent = frames['application_train'].SK_ID_CURR    \n",
    "    for key in keep:\n",
    "        child = frames[key].SK_ID_CURR\n",
    "        aligned[key] = frames[key][(child.isin(parent))]\n",
    "    return aligned   "
   ]
  },
  {
   "cell_type": "code",
   "execution_count": 104,
   "metadata": {},
   "outputs": [
    {
     "name": "stdout",
     "output_type": "stream",
     "text": [
      "key: POS_CASH_balance , size (10001358, 8)\n",
      "key: application_train , size (307511, 122)\n",
      "key: bureau , size (1716428, 17)\n",
      "key: bureau_balance , size (27299925, 3)\n",
      "key: credit_card_balance , size (3840312, 23)\n",
      "key: installments_payments , size (13605401, 8)\n",
      "key: previous_application , size (1670214, 37)\n"
     ]
    }
   ],
   "source": [
    "# before alignment\n",
    "for key in frames.keys():\n",
    "    print('key: {} , size {}'.format(key, frames[key].shape))  "
   ]
  },
  {
   "cell_type": "code",
   "execution_count": 109,
   "metadata": {},
   "outputs": [
    {
     "name": "stdout",
     "output_type": "stream",
     "text": [
      "key: POS_CASH_balance , size (8543375, 8)\n",
      "key: bureau , size (1465325, 17)\n",
      "key: credit_card_balance , size (3227965, 23)\n",
      "key: installments_payments , size (11591592, 8)\n",
      "key: previous_application , size (1413701, 37)\n"
     ]
    }
   ],
   "source": [
    "# after alignment\n",
    "aligned = align_dataframes(frames)\n",
    "for key in aligned.keys():\n",
    "    print('key: {} , size {}'.format(key, aligned[key].shape))"
   ]
  }
 ],
 "metadata": {
  "kernelspec": {
   "display_name": "Data Preparation and  Visualization",
   "language": "python",
   "name": "data-prep-env"
  },
  "language_info": {
   "codemirror_mode": {
    "name": "ipython",
    "version": 3
   },
   "file_extension": ".py",
   "mimetype": "text/x-python",
   "name": "python",
   "nbconvert_exporter": "python",
   "pygments_lexer": "ipython3",
   "version": "3.7.3"
  },
  "varInspector": {
   "cols": {
    "lenName": 16,
    "lenType": 16,
    "lenVar": 40
   },
   "kernels_config": {
    "python": {
     "delete_cmd_postfix": "",
     "delete_cmd_prefix": "del ",
     "library": "var_list.py",
     "varRefreshCmd": "print(var_dic_list())"
    },
    "r": {
     "delete_cmd_postfix": ") ",
     "delete_cmd_prefix": "rm(",
     "library": "var_list.r",
     "varRefreshCmd": "cat(var_dic_list()) "
    }
   },
   "types_to_exclude": [
    "module",
    "function",
    "builtin_function_or_method",
    "instance",
    "_Feature"
   ],
   "window_display": false
  }
 },
 "nbformat": 4,
 "nbformat_minor": 2
}

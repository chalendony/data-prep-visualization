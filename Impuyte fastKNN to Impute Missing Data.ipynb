{
 "cells": [
  {
   "cell_type": "markdown",
   "metadata": {
    "heading_collapsed": true
   },
   "source": [
    "# Exercise : Imputing Categorical Using Impuyte\n",
    "\n",
    "KNN is an algorithm that is useful for matching a point with its closest k neighbors in a multi-dimensional space. It  useful for dealing with different types of missing data.\n",
    "    \n",
    "If you have a  small amout of data set and with low dimensions, then KNN imputing is worth trying.\n",
    "   \n",
    "The Impyute package provides an implemention called [fastKNN](https://impyute.readthedocs.io/en/master/_modules/impyute/imputation/cs/fast_knn.html#fast_knn) - which is intended to be faster than fit+transform for each subset.\n",
    "    \n",
    "    \n",
    "Try it out with the Home Credit data set and compare this result to [DataWig](https://datawig.readthedocs.io/en/latest/source/userguide.html#introduction-to-imputer) or [MICE](https://www.statsmodels.org/stable/imputation.html)\n",
    "  "
   ]
  },
  {
   "cell_type": "markdown",
   "metadata": {},
   "source": [
    "# Python Imports"
   ]
  },
  {
   "cell_type": "code",
   "execution_count": 9,
   "metadata": {},
   "outputs": [],
   "source": [
    "%config IPCompleter.greedy=True\n",
    "import os\n",
    "import sys\n",
    "module_path = os.path.abspath(os.path.join('..'))\n",
    "if module_path not in sys.path:\n",
    "    sys.path.append(module_path)\n",
    "    \n",
    "import pandas as pd\n",
    "import numpy as np\n",
    "from pandas.plotting import scatter_matrix\n",
    "from sklearn.impute import SimpleImputer\n",
    "from sklearn.preprocessing import LabelBinarizer\n",
    "pd.set_option('display.max_columns', 125)\n",
    "import quilt\n",
    "from scripts.preprocess import percent_missing, as_dict\n",
    "from string import Template\n",
    "import missingno as msno\n",
    "import impyute\n",
    "import datawig\n",
    "from sklearn.metrics import f1_score, classification_report"
   ]
  },
  {
   "cell_type": "code",
   "execution_count": 2,
   "metadata": {},
   "outputs": [],
   "source": [
    "# load data from local repository, once per session\n",
    "from quilt.data.avare import homecredit"
   ]
  },
  {
   "cell_type": "markdown",
   "metadata": {},
   "source": [
    "# Validate Data Types \n",
    "\n",
    "We manually assign the types to each variable and override the data typed in the pandas dataframe."
   ]
  },
  {
   "cell_type": "code",
   "execution_count": 3,
   "metadata": {},
   "outputs": [
    {
     "data": {
      "text/html": [
       "<div>\n",
       "<style scoped>\n",
       "    .dataframe tbody tr th:only-of-type {\n",
       "        vertical-align: middle;\n",
       "    }\n",
       "\n",
       "    .dataframe tbody tr th {\n",
       "        vertical-align: top;\n",
       "    }\n",
       "\n",
       "    .dataframe thead th {\n",
       "        text-align: right;\n",
       "    }\n",
       "</style>\n",
       "<table border=\"1\" class=\"dataframe\">\n",
       "  <thead>\n",
       "    <tr style=\"text-align: right;\">\n",
       "      <th></th>\n",
       "      <th>Row</th>\n",
       "      <th>Table</th>\n",
       "      <th>Type</th>\n",
       "    </tr>\n",
       "  </thead>\n",
       "  <tbody>\n",
       "    <tr>\n",
       "      <th>0</th>\n",
       "      <td>SK_ID_PREV</td>\n",
       "      <td>POS_CASH_balance</td>\n",
       "      <td>object</td>\n",
       "    </tr>\n",
       "    <tr>\n",
       "      <th>1</th>\n",
       "      <td>SK_ID_CURR</td>\n",
       "      <td>POS_CASH_balance</td>\n",
       "      <td>object</td>\n",
       "    </tr>\n",
       "    <tr>\n",
       "      <th>2</th>\n",
       "      <td>MONTHS_BALANCE</td>\n",
       "      <td>POS_CASH_balance</td>\n",
       "      <td>float64</td>\n",
       "    </tr>\n",
       "    <tr>\n",
       "      <th>3</th>\n",
       "      <td>CNT_INSTALMENT</td>\n",
       "      <td>POS_CASH_balance</td>\n",
       "      <td>float64</td>\n",
       "    </tr>\n",
       "    <tr>\n",
       "      <th>4</th>\n",
       "      <td>CNT_INSTALMENT_FUTURE</td>\n",
       "      <td>POS_CASH_balance</td>\n",
       "      <td>float64</td>\n",
       "    </tr>\n",
       "  </tbody>\n",
       "</table>\n",
       "</div>"
      ],
      "text/plain": [
       "                     Row             Table     Type\n",
       "0             SK_ID_PREV  POS_CASH_balance   object\n",
       "1             SK_ID_CURR  POS_CASH_balance   object\n",
       "2         MONTHS_BALANCE  POS_CASH_balance  float64\n",
       "3         CNT_INSTALMENT  POS_CASH_balance  float64\n",
       "4  CNT_INSTALMENT_FUTURE  POS_CASH_balance  float64"
      ]
     },
     "execution_count": 3,
     "metadata": {},
     "output_type": "execute_result"
    }
   ],
   "source": [
    "description = pd.read_csv('data/new_data_description_file.csv')\n",
    "description.head()"
   ]
  },
  {
   "cell_type": "markdown",
   "metadata": {},
   "source": [
    "## Override Inferred Data Types (Single Table)"
   ]
  },
  {
   "cell_type": "code",
   "execution_count": 6,
   "metadata": {},
   "outputs": [],
   "source": [
    "table = 'previous_application'\n",
    "df = homecredit[table]()\n",
    "\n",
    "python_cat_dtype = 'object'\n",
    "python_num_dtype = 'float64'\n",
    "  \n",
    "condtable = description.Table == table\n",
    "condcat = description.Type == python_cat_dtype\n",
    "condnum = description.Type == python_num_dtype\n",
    "        \n",
    "catcols = description.loc[(condtable & condcat),'Row'].values.tolist()\n",
    "numcols = description.loc[(condtable & condnum),'Row'].values.tolist()\n",
    "    \n",
    "df[catcols] = df[catcols].astype(python_cat_dtype) \n",
    "df[numcols] = df[numcols].astype(python_num_dtype)"
   ]
  },
  {
   "cell_type": "markdown",
   "metadata": {},
   "source": [
    "## Select Subset for Analysis\n",
    "\n",
    "We will create a subset __without__ nulls, then split the data into a training and test set.\n",
    "\n",
    "The test set will allow us to measure the performance."
   ]
  },
  {
   "cell_type": "code",
   "execution_count": 7,
   "metadata": {},
   "outputs": [],
   "source": [
    "# drop empty columns\n",
    "dropcols = ['RATE_INTEREST_PRIVILEGED','RATE_INTEREST_PRIMARY','SK_ID_PREV', 'SK_ID_CURR']\n",
    "df.drop(dropcols, axis=1, inplace=True)\n",
    "\n",
    "# drop rows containing null \n",
    "df.dropna(axis=0, how='any', inplace=True)\n",
    "\n",
    "# select random instances\n",
    "seed = 500\n",
    "numinstances = 1000\n",
    "df = df.sample(numinstances,random_state=seed)\n",
    "#df.info(verbose=True)"
   ]
  },
  {
   "cell_type": "markdown",
   "metadata": {},
   "source": [
    "# Strategy Encode Categorical\n",
    "\n",
    "When validating the data types, go beyond either categorical or numerical so you can \n",
    "to choose the appropriate strategy to encode the data.\n",
    "\n",
    "* [Rule of Thumb for Validating Data Types](https://towardsdatascience.com/7-data-types-a-better-way-to-think-about-data-types-for-machine-learning-939fae99a689) \n",
    "\n",
    "* [Category Encoders Package](http://contrib.scikit-learn.org/categorical-encoding/index.html])\n",
    "\n",
    "__Requirements Algorithm:__ when working with Datawig if a nominal  consists of a sequence of integers, the variable will be interpreted as numeric: In our data set, each of the following are impacted:\n",
    "\n",
    "* HOUR_APPR_PROCESS_START : hours, __ordinal__  (but we encode it as numeric)\n",
    "* NFLAG_LAST_APPL_IN_DAY, NFLAG_INSURED_ON_APPROVAL : (0,1) __binary__ \n",
    "* SELLERPLACE_AREA : 4-digit code for a location, __nomimal__  \n",
    "\n",
    "__Categorical Encoding Strategy__ for this task and algorithm we creat a simple a user-defined encoding for the above mentioned categoricals - map sequence of integers to a string and allows us to see strings as plain text."
   ]
  },
  {
   "cell_type": "code",
   "execution_count": 8,
   "metadata": {},
   "outputs": [],
   "source": [
    "# User-defined Categorical Encoding\n",
    "prefix = 's_'\n",
    "df['NFLAG_LAST_APPL_IN_DAY'] =  prefix + df['NFLAG_LAST_APPL_IN_DAY'].astype(str) \n",
    "df['SELLERPLACE_AREA'] = prefix + df['SELLERPLACE_AREA'].astype(str) \n",
    "df['NFLAG_INSURED_ON_APPROVAL'] = prefix +  df['NFLAG_INSURED_ON_APPROVAL'].astype(str) "
   ]
  },
  {
   "cell_type": "markdown",
   "metadata": {},
   "source": [
    "# Train Model"
   ]
  },
  {
   "cell_type": "code",
   "execution_count": 12,
   "metadata": {},
   "outputs": [],
   "source": [
    "#%%time\n",
    "# select a portion of the data for evaluation\n",
    "df_impute = df.copy(deep=True)\n",
    "\n",
    "# insert random null in a selected column\n",
    "\n",
    "\n",
    "# convert dataframe to array\n",
    "\n",
    "\n",
    "# impute\n",
    "\n",
    "k = 3\n",
    "#predicted = fast_knn(data, k=k)"
   ]
  },
  {
   "cell_type": "markdown",
   "metadata": {},
   "source": [
    "# Evaluate Performance"
   ]
  },
  {
   "cell_type": "markdown",
   "metadata": {},
   "source": [
    "# Conclusion\n"
   ]
  }
 ],
 "metadata": {
  "kernelspec": {
   "display_name": "Data Preparation and  Visualization",
   "language": "python",
   "name": "data-prep-env"
  },
  "language_info": {
   "codemirror_mode": {
    "name": "ipython",
    "version": 3
   },
   "file_extension": ".py",
   "mimetype": "text/x-python",
   "name": "python",
   "nbconvert_exporter": "python",
   "pygments_lexer": "ipython3",
   "version": "3.7.3"
  },
  "toc": {
   "base_numbering": 1,
   "nav_menu": {
    "height": "581px",
    "width": "395px"
   },
   "number_sections": true,
   "sideBar": true,
   "skip_h1_title": false,
   "title_cell": "Table of Contents",
   "title_sidebar": "Contents",
   "toc_cell": false,
   "toc_position": {
    "height": "calc(100% - 180px)",
    "left": "10px",
    "top": "150px",
    "width": "267.688px"
   },
   "toc_section_display": true,
   "toc_window_display": true
  },
  "varInspector": {
   "cols": {
    "lenName": 16,
    "lenType": 16,
    "lenVar": 40
   },
   "kernels_config": {
    "python": {
     "delete_cmd_postfix": "",
     "delete_cmd_prefix": "del ",
     "library": "var_list.py",
     "varRefreshCmd": "print(var_dic_list())"
    },
    "r": {
     "delete_cmd_postfix": ") ",
     "delete_cmd_prefix": "rm(",
     "library": "var_list.r",
     "varRefreshCmd": "cat(var_dic_list()) "
    }
   },
   "position": {
    "height": "480px",
    "left": "1265px",
    "right": "20px",
    "top": "119px",
    "width": "381px"
   },
   "types_to_exclude": [
    "module",
    "function",
    "builtin_function_or_method",
    "instance",
    "_Feature"
   ],
   "window_display": false
  }
 },
 "nbformat": 4,
 "nbformat_minor": 2
}

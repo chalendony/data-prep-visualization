{
 "cells": [
  {
   "cell_type": "markdown",
   "metadata": {},
   "source": [
    "## Strategy: Drop Attribute\n",
    "A column may actually be useless for Machine Learning if it has a significant amount to the data is missing.\n",
    "\n",
    "\n",
    "\n",
    "__Links:__\n",
    "\n",
    "[Data Types for Machine Learning](https://towardsdatascience.com/7-data-types-a-better-way-to-think-about-data-types-for-machine-learning-939fae99a689.)"
   ]
  },
  {
   "cell_type": "code",
   "execution_count": 2,
   "metadata": {},
   "outputs": [
    {
     "data": {
      "text/html": [
       "<style>\n",
       "table {float:left}\n",
       "</style>\n"
      ],
      "text/plain": [
       "<IPython.core.display.HTML object>"
      ]
     },
     "metadata": {},
     "output_type": "display_data"
    }
   ],
   "source": [
    "%%html\n",
    "<style>\n",
    "table {float:left}\n",
    "</style>"
   ]
  },
  {
   "cell_type": "markdown",
   "metadata": {},
   "source": [
    "\n",
    "|Table|Column|Strategy|\n",
    "|:-----|:-----|:-----|\n",
    "|application_train|FONDKAPREMONT_MODE| Drop\n",
    "|application_train|WALLSMATERIAL_MODE|Drop \n",
    "|application_train|HOUSETYPE_MODE| Drop\n",
    "|application_train|EMERGENCYSTATE_MODE|Drop\n",
    "|application_train|OCCUPATION_TYPE| Drop\n",
    "|application_train|NAME_TYPE_SUITE| Impute Symbol \n",
    "|previous_application|NAME_TYPE_SUITE|Drop \n",
    "|previous_application|NFLAG_INSURED_ON_APPROVAL| Drop  \n",
    "|previous_application|PRODUCT_COMBINATION| Impute Probabilistic \n"
   ]
  },
  {
   "cell_type": "code",
   "execution_count": null,
   "metadata": {},
   "outputs": [],
   "source": [
    "## Drop the empty columns\n",
    "table = 'previous_application'\n",
    "dropcols = ['RATE_INTEREST_PRIVILEGED','RATE_INTEREST_PRIMARY']\n",
    "frames[table].drop(dropcols, axis=1, inplace=True)\n",
    "\n",
    "# verify / assert sucessfully dropped\n",
    "target = frames[table].columns\n",
    "res = any([c in target for c in dropcols])\n",
    "print('Drop successful: {} '.format(not res))"
   ]
  },
  {
   "cell_type": "code",
   "execution_count": null,
   "metadata": {},
   "outputs": [],
   "source": [
    "stategydrop = {'previous_application': ['NAME_TYPE_SUITE', 'NFLAG_INSURED_ON_APPROVAL'],\n",
    "               'application_train': ['FONDKAPREMONT_MODE','WALLSMATERIAL_MODE', 'HOUSETYPE_MODE','EMERGENCYSTATE_MODE', 'OCCUPATION_TYPE']\n",
    "              }\n",
    "print('Have the target columns been dropped?')\n",
    "for table,cols in stategydrop.items():\n",
    "    print(table)\n",
    "    res = frames[table].drop(cols, axis=1, inplace=False)\n",
    "    print(res.columns.sort)"
   ]
  },
  {
   "cell_type": "code",
   "execution_count": null,
   "metadata": {},
   "outputs": [],
   "source": [
    "__Columns Dropped__\n",
    "* `RATE_INTEREST_PRIVILEGED` and `RATE_INTEREST_PRIMARY` in the `previous_application` tables are practically empty 99 percent missing, drop these columns from the analysis."
   ]
  },
  {
   "cell_type": "code",
   "execution_count": null,
   "metadata": {},
   "outputs": [],
   "source": [
    "* Each of the following represent: Normalized information about building where the client lives, but more than 50% is missing data. See [Data Description](data/HomeCredit_columns_description.txt). \n",
    "\n",
    "|Columns| Total|Percent|\n",
    "|---|---|---|\n",
    "|FONDKAPREMONT_MODE| 156341 |50.840783 \n",
    "|WALLSMATERIAL_MODE| 154297 |50.176091 \n",
    "|WALLSMATERIAL_MODE| 154297 |50.176091 \n",
    "|EMERGENCYSTATE_MODE|145755|47.398304"
   ]
  }
 ],
 "metadata": {
  "kernelspec": {
   "display_name": "Data Preparation and  Visualization",
   "language": "python",
   "name": "data-prep-env"
  },
  "language_info": {
   "codemirror_mode": {
    "name": "ipython",
    "version": 3
   },
   "file_extension": ".py",
   "mimetype": "text/x-python",
   "name": "python",
   "nbconvert_exporter": "python",
   "pygments_lexer": "ipython3",
   "version": "3.7.3"
  },
  "toc": {
   "base_numbering": 1,
   "nav_menu": {},
   "number_sections": true,
   "sideBar": true,
   "skip_h1_title": false,
   "title_cell": "Table of Contents",
   "title_sidebar": "Contents",
   "toc_cell": false,
   "toc_position": {},
   "toc_section_display": true,
   "toc_window_display": false
  },
  "varInspector": {
   "cols": {
    "lenName": 16,
    "lenType": 16,
    "lenVar": 40
   },
   "kernels_config": {
    "python": {
     "delete_cmd_postfix": "",
     "delete_cmd_prefix": "del ",
     "library": "var_list.py",
     "varRefreshCmd": "print(var_dic_list())"
    },
    "r": {
     "delete_cmd_postfix": ") ",
     "delete_cmd_prefix": "rm(",
     "library": "var_list.r",
     "varRefreshCmd": "cat(var_dic_list()) "
    }
   },
   "types_to_exclude": [
    "module",
    "function",
    "builtin_function_or_method",
    "instance",
    "_Feature"
   ],
   "window_display": false
  }
 },
 "nbformat": 4,
 "nbformat_minor": 2
}
